{
 "cells": [
  {
   "cell_type": "code",
   "execution_count": 6,
   "id": "a1dbab21",
   "metadata": {},
   "outputs": [],
   "source": [
    "import re"
   ]
  },
  {
   "cell_type": "code",
   "execution_count": 7,
   "id": "b79f02e9",
   "metadata": {},
   "outputs": [],
   "source": [
    "txt = \"is simply dummy text of the printing and typesetting industry.\\\n",
    "Lorem Ipsum has been the industry's standard dummy text ever since the 1500s\""
   ]
  },
  {
   "cell_type": "code",
   "execution_count": 8,
   "id": "9f485f8d",
   "metadata": {},
   "outputs": [
    {
     "name": "stdout",
     "output_type": "stream",
     "text": [
      "is simply dummy text of the printing and typesetting industry.Lorem Ipsum has been the industry's standard dummy text ever since the 1500s\n"
     ]
    }
   ],
   "source": [
    "print(txt)"
   ]
  },
  {
   "cell_type": "code",
   "execution_count": 9,
   "id": "c3912eee",
   "metadata": {},
   "outputs": [],
   "source": [
    "# А вот наиболее популярные методы, которые предоставляет модуль:\n",
    "# re.match()\n",
    "# re.search()\n",
    "# re.findall()\n",
    "# re.split()\n",
    "# re.sub()\n",
    "# re.compile()"
   ]
  },
  {
   "cell_type": "code",
   "execution_count": 10,
   "id": "e566f2de",
   "metadata": {},
   "outputs": [
    {
     "name": "stdout",
     "output_type": "stream",
     "text": [
      "<re.Match object; span=(0, 9), match='is simply'>\n"
     ]
    }
   ],
   "source": [
    "# re.match(pattern, string)\n",
    "\n",
    "# Этот метод ищет по заданному шаблону в начале строки.\n",
    "# Например, если мы вызовем метод match() на строке «AV Analytics AV» с шаблоном «AV»,\n",
    "# то он завершится успешно. Но если мы будем искать «Analytics», то результат будет отрицательный:\n",
    "\n",
    "result = re.match(r'is simply', txt)\n",
    "print(result)"
   ]
  },
  {
   "cell_type": "code",
   "execution_count": 12,
   "id": "311bca97",
   "metadata": {},
   "outputs": [
    {
     "name": "stdout",
     "output_type": "stream",
     "text": [
      "is simply\n"
     ]
    }
   ],
   "source": [
    "# Искомая подстрока найдена. Чтобы вывести её содержимое, применим метод group()\n",
    "# (мы используем «r» перед строкой шаблона, чтобы показать, что это «сырая» строка в Python):\n",
    "\n",
    "result = re.match(r'is simply', txt)\n",
    "print(result.group(0))"
   ]
  },
  {
   "cell_type": "code",
   "execution_count": 14,
   "id": "626a52fa",
   "metadata": {},
   "outputs": [
    {
     "name": "stdout",
     "output_type": "stream",
     "text": [
      "0\n",
      "36\n"
     ]
    }
   ],
   "source": [
    "# Также есть методы start() и end() для того,\n",
    "# чтобы узнать начальную и конечную позицию найденной строки.\n",
    "\n",
    "result = re.match(r\"is simply dummy text of the printing\", txt)\n",
    "print(result.start())\n",
    "print(result.end())"
   ]
  },
  {
   "cell_type": "code",
   "execution_count": 15,
   "id": "51625275",
   "metadata": {},
   "outputs": [
    {
     "name": "stdout",
     "output_type": "stream",
     "text": [
      "Lorem Ipsum has\n"
     ]
    }
   ],
   "source": [
    "# re.search(pattern, string)\n",
    "# Метод похож на match(), но ищет не только в начале строки.\n",
    "# В отличие от предыдущего, search() вернёт объект, если мы попытаемся найти\n",
    "\n",
    "result = re.search(r'Lorem Ipsum has',txt)\n",
    "print(result.group(0))"
   ]
  },
  {
   "cell_type": "code",
   "execution_count": 16,
   "id": "2718611e",
   "metadata": {},
   "outputs": [
    {
     "name": "stdout",
     "output_type": "stream",
     "text": [
      "['printing', 'typesetting', 'since']\n"
     ]
    }
   ],
   "source": [
    "# re.findall(pattern, string)\n",
    "# Возвращает список всех найденных совпадений.\n",
    "# У метода findall() нет ограничений на поиск в начале или конце строки.\n",
    "# Если мы будем искать «AV» в нашей строке, он вернет все вхождения «AV».\n",
    "# Для поиска рекомендуется использовать именно findall(),\n",
    "# так как он может работать и как re.search(), и как re.match().\n",
    "\n",
    "result = re.findall(r'\\w+in\\w+', txt)\n",
    "print(result)"
   ]
  },
  {
   "cell_type": "code",
   "execution_count": 17,
   "id": "c16d6449",
   "metadata": {},
   "outputs": [
    {
     "name": "stdout",
     "output_type": "stream",
     "text": [
      "['is simpl', ' dumm', ' text of the printing and t', 'pesetting industr', '.Lorem Ipsum has been the industr', \"'s standard dumm\", ' text ever since the 1500s']\n"
     ]
    }
   ],
   "source": [
    "# re.split(pattern, string, [maxsplit=0])\n",
    "# Этот метод разделяет строку по заданному шаблону.\n",
    "\n",
    "result = re.split(r'y', txt)\n",
    "print(result)"
   ]
  },
  {
   "cell_type": "code",
   "execution_count": 18,
   "id": "f6346591",
   "metadata": {},
   "outputs": [
    {
     "name": "stdout",
     "output_type": "stream",
     "text": [
      "['is simpl', ' dumm', \" text of the printing and typesetting industry.Lorem Ipsum has been the industry's standard dummy text ever since the 1500s\"]\n",
      "3\n"
     ]
    }
   ],
   "source": [
    "# В примере мы разделили слово «Analytics» по букве «y». Метод split() принимает также аргумент maxsplit\n",
    "# со значением по умолчанию, равным 0. В данном случае он разделит строку столько раз, сколько возможно,\n",
    "# но если указать этот аргумент, то разделение будет произведено не более указанного количества раз.\n",
    "# Давайте посмотрим на примеры Python RegEx:\n",
    "\n",
    "result = re.split(r'y',txt,maxsplit=2)\n",
    "print(result)\n",
    "print(len(result))\n",
    "\n",
    "# Мы установили параметр maxsplit равным 1, и в результате строка была разделена на две части вместо трех."
   ]
  },
  {
   "cell_type": "code",
   "execution_count": 19,
   "id": "2bea5121",
   "metadata": {},
   "outputs": [
    {
     "name": "stdout",
     "output_type": "stream",
     "text": [
      "is simply dummy text of the printing and typesetting industryLorem Ipsum has been the industrys standard dummy text ever since the 1500s\n"
     ]
    }
   ],
   "source": [
    "# re.sub(pattern, repl, string)\n",
    "# Ищет шаблон в строке и заменяет его на указанную подстроку. Если шаблон не найден, строка остается неизменной.\n",
    "result = re.sub(r\"[,.']\", '', txt)\n",
    "print(result)"
   ]
  },
  {
   "cell_type": "code",
   "execution_count": 20,
   "id": "b7eaf704",
   "metadata": {},
   "outputs": [
    {
     "name": "stdout",
     "output_type": "stream",
     "text": [
      "['text', 'text']\n",
      "['text', 'text']\n"
     ]
    }
   ],
   "source": [
    "# re.compile(pattern, repl, string)\n",
    "# Мы можем собрать регулярное выражение в отдельный объект, который может быть использован для поиска.\n",
    "# Это также избавляет от переписывания одного и того же выражения.\n",
    "pattern = re.compile('text')\n",
    "result = pattern.findall(txt)\n",
    "print(result)\n",
    "result2 = pattern.findall(txt)\n",
    "print(result2)"
   ]
  },
  {
   "cell_type": "code",
   "execution_count": 21,
   "id": "0d26f367",
   "metadata": {},
   "outputs": [],
   "source": [
    "# Оператор\tОписание\n",
    "# .\tОдин любой символ, кроме новой строки \\n.\n",
    "# ?\t0 или 1 вхождение шаблона слева\n",
    "# +\t1 и более вхождений шаблона слева\n",
    "# *\t0 и более вхождений шаблона слева\n",
    "# \\w\tЛюбая цифра или буква (\\W — все, кроме буквы или цифры)\n",
    "# \\d\tЛюбая цифра [0-9] (\\D — все, кроме цифры)\n",
    "# \\s\tЛюбой пробельный символ (\\S — любой непробельный символ)\n",
    "# \\b\tГраница слова\n",
    "# [..]\tОдин из символов в скобках ([^..] — любой символ, кроме тех, что в скобках)\n",
    "# \\\tЭкранирование специальных символов (\\. означает точку или \\+ — знак «плюс»)\n",
    "# ^ и $\tНачало и конец строки соответственно\n",
    "# {n,m}\tОт n до m вхождений ({,m} — от 0 до m)\n",
    "# a|b\tСоответствует a или b\n",
    "# ()\tГруппирует выражение и возвращает найденный текст\n",
    "# \\t, \\n, \\r\tСимвол табуляции, новой строки и возврата каретки соответственно"
   ]
  },
  {
   "cell_type": "code",
   "execution_count": 22,
   "id": "a5ab9d91",
   "metadata": {},
   "outputs": [],
   "source": [
    "txt_q = \"is simply dummy text of the printing and typesetting industry.\\\n",
    "Lorem Ipsum has been the industry's standard dummy text ever since the 1500s\"\n"
   ]
  },
  {
   "cell_type": "code",
   "execution_count": 23,
   "id": "7e102b69",
   "metadata": {},
   "outputs": [
    {
     "name": "stdout",
     "output_type": "stream",
     "text": [
      "['i', 's', 's', 'i', 'm', 'p', 'l', 'y', 'd', 'u', 'm', 'm', 'y', 't', 'e', 'x', 't', 'o', 'f', 't', 'h', 'e', 'p', 'r', 'i', 'n', 't', 'i', 'n', 'g', 'a', 'n', 'd', 't', 'y', 'p', 'e', 's', 'e', 't', 't', 'i', 'n', 'g', 'i', 'n', 'd', 'u', 's', 't', 'r', 'y', 'L', 'o', 'r', 'e', 'm', 'I', 'p', 's', 'u', 'm', 'h', 'a', 's', 'b', 'e', 'e', 'n', 't', 'h', 'e', 'i', 'n', 'd', 'u', 's', 't', 'r', 'y', 's', 's', 't', 'a', 'n', 'd', 'a', 'r', 'd', 'd', 'u', 'm', 'm', 'y', 't', 'e', 'x', 't', 'e', 'v', 'e', 'r', 's', 'i', 'n', 'c', 'e', 't', 'h', 'e', '1', '5', '0', '0', 's']\n"
     ]
    }
   ],
   "source": [
    "# # Задачи\n",
    "# # Вернуть первое слово из строки\n",
    "# # Сначала попробуем вытащить каждый символ (используя .)\n",
    "# Для того, чтобы в конечный результат не попал пробел,\n",
    "# используем вместо . \\w.\n",
    "\n",
    "result = re.findall('\\w',txt_q)\n",
    "print(result)"
   ]
  },
  {
   "cell_type": "code",
   "execution_count": 24,
   "id": "713d48e8",
   "metadata": {},
   "outputs": [
    {
     "name": "stdout",
     "output_type": "stream",
     "text": [
      "['is', '', 'simply', '', 'dummy', '', 'text', '', 'of', '', 'the', '', 'printing', '', 'and', '', 'typesetting', '', 'industry', '', 'Lorem', '', 'Ipsum', '', 'has', '', 'been', '', 'the', '', 'industry', '', 's', '', 'standard', '', 'dummy', '', 'text', '', 'ever', '', 'since', '', 'the', '', '1500s', '']\n"
     ]
    }
   ],
   "source": [
    "#Теперь попробуем достать каждое слово (используя * или +)\n",
    "\n",
    "result = re.findall(r'\\w*',txt_q)\n",
    "print(result)\n",
    "\n",
    "# И снова в результат попали пробелы,\n",
    "# так как * означает «ноль или более символов».\n",
    "# Для того, чтобы их убрать, используем +:"
   ]
  },
  {
   "cell_type": "code",
   "execution_count": 18,
   "id": "8e11d524",
   "metadata": {},
   "outputs": [
    {
     "name": "stdout",
     "output_type": "stream",
     "text": [
      "['is', 'simply', 'dummy', 'text', 'of', 'the', 'printing', 'and', 'typesetting', 'industry', 'Lorem', 'Ipsum', 'has', 'been', 'the', 'industry', 's', 'standard', 'dummy', 'text', 'ever', 'since', 'the', '1500s']\n"
     ]
    }
   ],
   "source": [
    "result = re.findall(r'\\w+',txt_q)\n",
    "print(result)"
   ]
  },
  {
   "cell_type": "code",
   "execution_count": 25,
   "id": "bd27e5e7",
   "metadata": {},
   "outputs": [
    {
     "name": "stdout",
     "output_type": "stream",
     "text": [
      "['is']\n"
     ]
    }
   ],
   "source": [
    "#Теперь вытащим первое слово, используя\n",
    "\n",
    "result = re.findall(r'^\\w+',txt_q)\n",
    "print(result)"
   ]
  },
  {
   "cell_type": "code",
   "execution_count": 26,
   "id": "8b1c998e",
   "metadata": {},
   "outputs": [
    {
     "name": "stdout",
     "output_type": "stream",
     "text": [
      "['1500s']\n"
     ]
    }
   ],
   "source": [
    "# Если мы используем $ вместо ^,\n",
    "# то мы получим последнее слово, а не первое:\n",
    "\n",
    "result = re.findall(r'\\w+$',txt_q)\n",
    "print(result)"
   ]
  },
  {
   "cell_type": "code",
   "execution_count": 27,
   "id": "6c6ff667",
   "metadata": {},
   "outputs": [
    {
     "name": "stdout",
     "output_type": "stream",
     "text": [
      "['is', 'si', 'mp', 'ly', 'du', 'mm', 'te', 'xt', 'of', 'th', 'pr', 'in', 'ti', 'ng', 'an', 'ty', 'pe', 'se', 'tt', 'in', 'in', 'du', 'st', 'ry', 'Lo', 're', 'Ip', 'su', 'ha', 'be', 'en', 'th', 'in', 'du', 'st', 'ry', 'st', 'an', 'da', 'rd', 'du', 'mm', 'te', 'xt', 'ev', 'er', 'si', 'nc', 'th', '15', '00']\n"
     ]
    }
   ],
   "source": [
    "# Вернуть первые два символа каждого слова\n",
    "# Вариант 1:\n",
    "# используя \\w, вытащить два последовательных символа,\n",
    "# кроме пробельных, из каждого слова:\n",
    "\n",
    "result = re.findall(r'\\w\\w', txt_q)\n",
    "print(result)"
   ]
  },
  {
   "cell_type": "code",
   "execution_count": 28,
   "id": "3381dd6f",
   "metadata": {},
   "outputs": [
    {
     "name": "stdout",
     "output_type": "stream",
     "text": [
      "['is', 'si', 'du', 'te', 'of', 'th', 'pr', 'an', 'ty', 'in', 'Lo', 'Ip', 'ha', 'be', 'th', 'in', 's ', 'st', 'du', 'te', 'ev', 'si', 'th', '15']\n"
     ]
    }
   ],
   "source": [
    "# Вариант 2: вытащить два последовательных символа,\n",
    "# используя символ границы слова (\\b):\n",
    "\n",
    "result = re.findall(r'\\b\\w.', txt_q)\n",
    "print(result)"
   ]
  },
  {
   "cell_type": "code",
   "execution_count": 29,
   "id": "51b8fe76",
   "metadata": {},
   "outputs": [
    {
     "name": "stdout",
     "output_type": "stream",
     "text": [
      "['@gmail', '@test']\n"
     ]
    }
   ],
   "source": [
    "# Вернуть домены из списка email-адресов\n",
    "# Сначала вернём все символы после «@»:\n",
    "\n",
    "domain_list = \"abc.test@gmail.com, xyz@test.in\"\n",
    "result = re.findall(r'@\\w+',domain_list)\n",
    "print(result)"
   ]
  },
  {
   "cell_type": "code",
   "execution_count": 30,
   "id": "acb67eef",
   "metadata": {},
   "outputs": [
    {
     "name": "stdout",
     "output_type": "stream",
     "text": [
      "['@gmail.com', '@test.in']\n"
     ]
    }
   ],
   "source": [
    "# Как видим, части «.com», «.in» и т. д. не попали в результат.\n",
    "# Изменим наш код:\n",
    "\n",
    "result = re.findall(r'@\\w+.\\w+',domain_list)\n",
    "print(result)"
   ]
  },
  {
   "cell_type": "code",
   "execution_count": 31,
   "id": "43f179be",
   "metadata": {},
   "outputs": [
    {
     "name": "stdout",
     "output_type": "stream",
     "text": [
      "['com', 'in']\n"
     ]
    }
   ],
   "source": [
    "# Второй вариант — вытащить только домен верхнего уровня,\n",
    "# используя группировку — ( ):\n",
    "\n",
    "result = re.findall(r'@\\w+.(\\w+)',domain_list)\n",
    "print(result)"
   ]
  },
  {
   "cell_type": "code",
   "execution_count": 26,
   "id": "5bf15a73",
   "metadata": {},
   "outputs": [
    {
     "name": "stdout",
     "output_type": "stream",
     "text": [
      "['1234', '2345', '3333']\n"
     ]
    }
   ],
   "source": [
    "# Извлечь дату из строки\n",
    "# Используем \\d для извлечения цифр.\n",
    "\n",
    "date = 'Amit 34-3456 12-05-1234, XYZ 56-4532 11-11-2345, ABC 67-8945 12-01-3333'\n",
    "result = re.findall(r'\\d{1}-\\d{2}-(\\d{4})',date )\n",
    "print(result)"
   ]
  },
  {
   "cell_type": "code",
   "execution_count": 32,
   "id": "8e299a15",
   "metadata": {},
   "outputs": [
    {
     "name": "stdout",
     "output_type": "stream",
     "text": [
      "['is', 'simply', 'dummy', 'text', 'the', 'inting', 'typesetting', 'industry', 'sum', 'the', 'industry', 'standard', 'dummy', 'text', 'since', 'the']\n"
     ]
    }
   ],
   "source": [
    "# только те, которые начинаются на\n",
    "# определенные буквы (используя []):\n",
    "\n",
    "txt_qq = \" is  simply  dummy text  of the printing and typesetting industry.\\\n",
    "Lorem Ipsum has been the industry's standard dummy text ever since the  1500s\"\n",
    "result = re.findall(r'[isdt]\\w+',txt_qq)\n",
    "print(result)"
   ]
  },
  {
   "cell_type": "code",
   "execution_count": 33,
   "id": "68ec1dc3",
   "metadata": {},
   "outputs": [
    {
     "name": "stdout",
     "output_type": "stream",
     "text": [
      "['is', 'simply', 'dummy', 'text', 'the', 'typesetting', 'industry', 'the', 'industry', 'standard', 'dummy', 'text', 'since', 'the']\n"
     ]
    }
   ],
   "source": [
    "# Выше мы видим обрезанные слова «argest» и «ommunity».\n",
    "# Для того, чтобы убрать их, используем \\b для обозначения границы\n",
    "# слова:\n",
    "\n",
    "result = re.findall(r'\\b[isdt]\\w+',txt_qq)\n",
    "print(result)"
   ]
  },
  {
   "cell_type": "code",
   "execution_count": 34,
   "id": "a91ee5f8",
   "metadata": {},
   "outputs": [
    {
     "name": "stdout",
     "output_type": "stream",
     "text": [
      "['of', 'printing', 'and', '.Lorem', 'Ipsum', 'has', 'been', \"'s\", 'ever', '1500s']\n"
     ]
    }
   ],
   "source": [
    "# В результат попали слова, «начинающиеся» с пробела.\n",
    "# Уберем их, включив пробел в диапазон в квадратных скобках:\n",
    "\n",
    "result = re.findall(r'\\b[^isdt ]\\w+',txt_qq)\n",
    "print(result)"
   ]
  },
  {
   "cell_type": "code",
   "execution_count": 35,
   "id": "6030e31d",
   "metadata": {},
   "outputs": [
    {
     "name": "stdout",
     "output_type": "stream",
     "text": [
      "9999999999: валидный\n",
      "999999-999: невалидный\n",
      "99999x9999: невалидный\n"
     ]
    }
   ],
   "source": [
    "# Проверить формат телефонного номера\n",
    "# Номер должен быть длиной 10 знаков и начинаться с 8 или 9.\n",
    "# Есть список телефонных номеров, и нужно проверить их,\n",
    "# используя регулярки в Python:\n",
    "li = ['9999999999', '999999-999', '99999x9999']\n",
    "\n",
    "for val in li:\n",
    "    if re.match(r'[8-9]{1}[0-9]{9}', val) and len(val) == 10:\n",
    "        print(f\"{val}: валидный\")\n",
    "    else:\n",
    "        print(f\"{val}: невалидный\")"
   ]
  },
  {
   "cell_type": "code",
   "execution_count": 36,
   "id": "c97b9761",
   "metadata": {},
   "outputs": [
    {
     "name": "stdout",
     "output_type": "stream",
     "text": [
      "['asdf', 'fjdk', 'afed', 'fjek', 'asdf', 'foo']\n"
     ]
    }
   ],
   "source": [
    "# Разбить строку по нескольким разделителям\n",
    "\n",
    "line = 'asdf fjdk;afed,fjek,asdf,foo' \n",
    "# String has multiple delimiters (\";\",\",\",\" \").\n",
    "result = re.split(r'[;,\\s]', line)\n",
    "print(result)"
   ]
  },
  {
   "cell_type": "code",
   "execution_count": 32,
   "id": "9b091ae1",
   "metadata": {},
   "outputs": [
    {
     "name": "stdout",
     "output_type": "stream",
     "text": [
      "asdf fjdk afed fjek asdf foo\n"
     ]
    }
   ],
   "source": [
    "# Также мы можем использовать метод re.sub()\n",
    "# для замены всех разделителей пробелами:\n",
    "line = 'asdf fjdk;afed,fjek,asdf,foo'\n",
    "result = re.sub(r'[;,\\s]',' ', line)\n",
    "print(result)"
   ]
  }
 ],
 "metadata": {
  "kernelspec": {
   "display_name": "Python 3 (ipykernel)",
   "language": "python",
   "name": "python3"
  },
  "language_info": {
   "codemirror_mode": {
    "name": "ipython",
    "version": 3
   },
   "file_extension": ".py",
   "mimetype": "text/x-python",
   "name": "python",
   "nbconvert_exporter": "python",
   "pygments_lexer": "ipython3",
   "version": "3.11.1"
  }
 },
 "nbformat": 4,
 "nbformat_minor": 5
}
